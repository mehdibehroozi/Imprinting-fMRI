{
 "cells": [
  {
   "cell_type": "code",
   "execution_count": 4,
   "metadata": {
    "scrolled": true
   },
   "outputs": [
    {
     "name": "stdout",
     "output_type": "stream",
     "text": [
      "/mnt/d/Data/Chick/Imprinting/analysis/sub09\n",
      "/mnt/d/Data/Chick/Imprinting/analysis/sub11\n",
      "/mnt/d/Data/Chick/Imprinting/analysis/sub12\n",
      "/mnt/d/Data/Chick/Imprinting/analysis/sub18\n",
      "/mnt/d/Data/Chick/Imprinting/analysis/sub19\n",
      "/mnt/d/Data/Chick/Imprinting/analysis/sub21\n",
      "/mnt/d/Data/Chick/Imprinting/analysis/sub22\n",
      "/mnt/d/Data/Chick/Imprinting/analysis/sub24\n",
      "/mnt/d/Data/Chick/Imprinting/analysis/sub29\n",
      "/mnt/d/Data/Chick/Imprinting/analysis/sub31\n",
      "/mnt/d/Data/Chick/Imprinting/analysis/sub32\n",
      "/mnt/d/Data/Chick/Imprinting/analysis/sub34\n",
      "/mnt/d/Data/Chick/Imprinting/analysis/sub35\n",
      "/mnt/d/Data/Chick/Imprinting/analysis/sub36\n",
      "/mnt/d/Data/Chick/Imprinting/analysis/sub37\n",
      "/mnt/d/Data/Chick/Imprinting/analysis/sub38\n",
      "/mnt/d/Data/Chick/Imprinting/analysis/sub39\n",
      "/mnt/d/Data/Chick/Imprinting/analysis/sub40\n",
      "/mnt/d/Data/Chick/Imprinting/analysis/sub42\n",
      "/mnt/d/Data/Chick/Imprinting/analysis/sub43\n",
      "/mnt/d/Data/Chick/Imprinting/analysis/sub44\n",
      "/mnt/d/Data/Chick/Imprinting/analysis/sub46\n",
      "/mnt/d/Data/Chick/Imprinting/analysis/sub47\n",
      "/mnt/d/Data/Chick/Imprinting/analysis/sub48\n"
     ]
    }
   ],
   "source": [
    "import os\n",
    "import glob\n",
    "import time\n",
    "# Set this to the directory all of the sub### directories live in\n",
    "studydir = '/mnt/d/Data/Chick/Imprinting'\n",
    " \n",
    "# Set this to the directory where you'll dump all the fsf files\n",
    "# May want to make it a separate directory, because you can delete them all o\n",
    "#   once Feat runs\n",
    "fsfdir=\"%s/Scripts/fsfs\"%(studydir)\n",
    "\n",
    "# High pass filter cutoff\n",
    "#set fmri(paradigm_hp) TempFILTER\n",
    "input_name= 'func_data_mc_st_ss8_tf100'\n",
    "SS = input_name[18:-6]\n",
    "TempFILTER=input_name[-3:]\n",
    "\n",
    "os.makedirs('%s/firstLevel_GLM_ss%s_tf%s'%(fsfdir,SS,TempFILTER))\n",
    "\n",
    "# Get all the paths!  Note, this won't do anything special to omit bad subjects\n",
    "subdirs=glob.glob(\"%s/analysis/sub*\"%(studydir))\n",
    "for curr_sub in subdirs:\n",
    "    print(curr_sub)\n",
    "    behavioral_path = os.path.join(curr_sub,'behavioural')\n",
    "    if os.path.exists(behavioral_path):\n",
    "        splitdir = curr_sub.split('/')\n",
    "        splitdir_sub = splitdir[-1]\n",
    "        subnum=splitdir_sub[3:]\n",
    "            \n",
    "        replacements = {'SUBNUM':subnum , 'TempFILTER':TempFILTER,'INPUT_NAME':input_name}\n",
    "        with open(\"%s/template_1stLevel_GLM.fsf\"%(fsfdir)) as infile: \n",
    "            with open(\"%s/firstLevel_GLM_ss%s_tf%s/design_sub%s.fsf\"%(fsfdir, SS,TempFILTER,subnum), 'w') as outfile:\n",
    "                for line in infile:\n",
    "                # Note, since the video, I've changed \"iteritems\" to \"items\"\n",
    "                # to make the following work on more versions of python\n",
    "                #  (python 3 no longer has iteritems())  \n",
    "                    for src, target in replacements.items():\n",
    "                        line = line.replace(src, target)\n",
    "                    outfile.write(line)\n",
    "    else:\n",
    "        print('no behavior')\n",
    "        pass "
   ]
  },
  {
   "cell_type": "markdown",
   "metadata": {},
   "source": [
    "# run first level analysis"
   ]
  },
  {
   "cell_type": "code",
   "execution_count": null,
   "metadata": {},
   "outputs": [
    {
     "name": "stdout",
     "output_type": "stream",
     "text": [
      "/mnt/d/Data/Chick/Imprinting//Scripts/fsfs/firstLevel_GLM_ss8_tf100/design_sub11.fsf\n",
      "/mnt/d/Data/Chick/Imprinting//Scripts/fsfs/firstLevel_GLM_ss8_tf100/design_sub12.fsf\n",
      "/mnt/d/Data/Chick/Imprinting//Scripts/fsfs/firstLevel_GLM_ss8_tf100/design_sub18.fsf\n"
     ]
    }
   ],
   "source": [
    "import os\n",
    "import glob\n",
    "import time\n",
    "# Set this to the directory all of the sub### directories live in\n",
    "path = '/mnt/d/Data/Chick/Imprinting/' \n",
    "fsfdir=\"%s/Scripts/fsfs/firstLevel_GLM_ss8_tf100\"%(path)\n",
    "fsf_files = glob.glob('%s/*.fsf'%(fsfdir))\n",
    "#os.chdir(path)\n",
    "\n",
    "for fsf in fsf_files[1:]:\n",
    "    print(fsf)\n",
    "    #os.chdir(path)\n",
    "    results = os.system(\"feat %s\"%(fsf))\n",
    "       # print(\"design_sub%s_run%s.fsf&\"%(subnum, runnum)\n",
    "    #if numProc%5==0:\n",
    "    #    print(\"waiting for 400sec\")\n",
    "    #    time.sleep(400)\n",
    "    "
   ]
  },
  {
   "cell_type": "markdown",
   "metadata": {},
   "source": [
    "# copy reg folder to bold.feat to run group analysis"
   ]
  },
  {
   "cell_type": "code",
   "execution_count": 9,
   "metadata": {},
   "outputs": [
    {
     "name": "stdout",
     "output_type": "stream",
     "text": [
      "/mnt/d/Data/Pigeon/Sleep/analysis/sub29/20191022/results/func_data_mc_st_ss10_tf200/RIM.feat/reg\n",
      "/mnt/d/Data/Pigeon/Sleep/analysis/sub29/20191023/results/func_data_mc_st_ss10_tf200/RIM.feat/reg\n",
      "/mnt/d/Data/Pigeon/Sleep/analysis/sub33/20210113/results/func_data_mc_st_ss10_tf200/RIM.feat/reg\n",
      "/mnt/d/Data/Pigeon/Sleep/analysis/sub33/20210114/results/func_data_mc_st_ss10_tf200/RIM.feat/reg\n",
      "/mnt/d/Data/Pigeon/Sleep/analysis/sub33/20210115/results/func_data_mc_st_ss10_tf200/RIM.feat/reg\n",
      "/mnt/d/Data/Pigeon/Sleep/analysis/sub34/20210112/results/func_data_mc_st_ss10_tf200/RIM.feat/reg\n",
      "/mnt/d/Data/Pigeon/Sleep/analysis/sub34/20210118/results/func_data_mc_st_ss10_tf200/RIM.feat/reg\n",
      "/mnt/d/Data/Pigeon/Sleep/analysis/sub34/20210119/results/func_data_mc_st_ss10_tf200/RIM.feat/reg\n",
      "/mnt/d/Data/Pigeon/Sleep/analysis/sub35/20191021/results/func_data_mc_st_ss10_tf200/RIM.feat/reg\n",
      "/mnt/d/Data/Pigeon/Sleep/analysis/sub36/20210112/results/func_data_mc_st_ss10_tf200/RIM.feat/reg\n",
      "/mnt/d/Data/Pigeon/Sleep/analysis/sub36/20210114/results/func_data_mc_st_ss10_tf200/RIM.feat/reg\n",
      "/mnt/d/Data/Pigeon/Sleep/analysis/sub37/20210115/results/func_data_mc_st_ss10_tf200/RIM.feat/reg\n",
      "/mnt/d/Data/Pigeon/Sleep/analysis/sub37/20210118/results/func_data_mc_st_ss10_tf200/RIM.feat/reg\n",
      "/mnt/d/Data/Pigeon/Sleep/analysis/sub37/20210119/results/func_data_mc_st_ss10_tf200/RIM.feat/reg\n",
      "/mnt/d/Data/Pigeon/Sleep/analysis/sub38/20210118/results/func_data_mc_st_ss10_tf200/RIM.feat/reg\n",
      "/mnt/d/Data/Pigeon/Sleep/analysis/sub38/20210119/results/func_data_mc_st_ss10_tf200/RIM.feat/reg\n",
      "/mnt/d/Data/Pigeon/Sleep/analysis/sub38/20210120/results/func_data_mc_st_ss10_tf200/RIM.feat/reg\n",
      "/mnt/d/Data/Pigeon/Sleep/analysis/sub52/20210113/results/func_data_mc_st_ss10_tf200/RIM.feat/reg\n",
      "/mnt/d/Data/Pigeon/Sleep/analysis/sub52/20210114/results/func_data_mc_st_ss10_tf200/RIM.feat/reg\n",
      "/mnt/d/Data/Pigeon/Sleep/analysis/sub52/20210115/results/func_data_mc_st_ss10_tf200/RIM.feat/reg\n",
      "/mnt/d/Data/Pigeon/Sleep/analysis/sub52/20210125/results/func_data_mc_st_ss10_tf200/RIM.feat/reg\n",
      "/mnt/d/Data/Pigeon/Sleep/analysis/sub69/20210112/results/func_data_mc_st_ss10_tf200/RIM.feat/reg\n",
      "/mnt/d/Data/Pigeon/Sleep/analysis/sub69/20210113/results/func_data_mc_st_ss10_tf200/RIM.feat/reg\n",
      "/mnt/d/Data/Pigeon/Sleep/analysis/sub712/20210120/results/func_data_mc_st_ss10_tf200/RIM.feat/reg\n",
      "/mnt/d/Data/Pigeon/Sleep/analysis/sub712/20210121/results/func_data_mc_st_ss10_tf200/RIM.feat/reg\n",
      "/mnt/d/Data/Pigeon/Sleep/analysis/sub712/20210122/results/func_data_mc_st_ss10_tf200/RIM.feat/reg\n",
      "/mnt/d/Data/Pigeon/Sleep/analysis/sub712/20210127/results/func_data_mc_st_ss10_tf200/RIM.feat/reg\n",
      "/mnt/d/Data/Pigeon/Sleep/analysis/sub721/20210125/results/func_data_mc_st_ss10_tf200/RIM.feat/reg\n",
      "/mnt/d/Data/Pigeon/Sleep/analysis/sub721/20210127/results/func_data_mc_st_ss10_tf200/RIM.feat/reg\n",
      "/mnt/d/Data/Pigeon/Sleep/analysis/sub721/20210128/results/func_data_mc_st_ss10_tf200/RIM.feat/reg\n",
      "/mnt/d/Data/Pigeon/Sleep/analysis/sub735/20191021/results/func_data_mc_st_ss10_tf200/RIM.feat/reg\n",
      "/mnt/d/Data/Pigeon/Sleep/analysis/sub735/20191022/results/func_data_mc_st_ss10_tf200/RIM.feat/reg\n",
      "/mnt/d/Data/Pigeon/Sleep/analysis/sub736/20210120/results/func_data_mc_st_ss10_tf200/RIM.feat/reg\n",
      "/mnt/d/Data/Pigeon/Sleep/analysis/sub736/20210121/results/func_data_mc_st_ss10_tf200/RIM.feat/reg\n",
      "/mnt/d/Data/Pigeon/Sleep/analysis/sub736/20210122/results/func_data_mc_st_ss10_tf200/RIM.feat/reg\n",
      "/mnt/d/Data/Pigeon/Sleep/analysis/sub78/20210120/results/func_data_mc_st_ss10_tf200/RIM.feat/reg\n",
      "/mnt/d/Data/Pigeon/Sleep/analysis/sub78/20210121/results/func_data_mc_st_ss10_tf200/RIM.feat/reg\n",
      "/mnt/d/Data/Pigeon/Sleep/analysis/sub78/20210122/results/func_data_mc_st_ss10_tf200/RIM.feat/reg\n",
      "/mnt/d/Data/Pigeon/Sleep/analysis/sub84/20210125/results/func_data_mc_st_ss10_tf200/RIM.feat/reg\n",
      "/mnt/d/Data/Pigeon/Sleep/analysis/sub84/20210127/results/func_data_mc_st_ss10_tf200/RIM.feat/reg\n",
      "/mnt/d/Data/Pigeon/Sleep/analysis/sub84/20210128/results/func_data_mc_st_ss10_tf200/RIM.feat/reg\n"
     ]
    }
   ],
   "source": [
    "import os\n",
    "import glob\n",
    "import time\n",
    "# Set this to the directory all of the sub### directories live in\n",
    "path = '/mnt/d/Data/Pigeon/Sleep/analysis'\n",
    "sub_files = glob.glob('%s/sub*/*/results'%(path))\n",
    "reg_sources = glob.glob('%s/sub*/*/results/reg'%(path))\n",
    "input_name = 'func_data_mc_st_ss10_tf200'\n",
    "for curr_reg in reg_sources:\n",
    "   \n",
    "    crs = curr_reg.split('/')\n",
    "    reg_dist = os.path.join(os.path.dirname(curr_reg),'%s/RIM.feat/reg'%(input_name))\n",
    "    print(reg_dist)\n",
    "    os.makedirs(reg_dist)\n",
    "    os.system('cp -R %s/* %s'%(curr_reg,reg_dist))\n",
    "    "
   ]
  },
  {
   "cell_type": "code",
   "execution_count": null,
   "metadata": {},
   "outputs": [],
   "source": []
  }
 ],
 "metadata": {
  "kernelspec": {
   "display_name": "Python 3",
   "language": "python",
   "name": "python3"
  },
  "language_info": {
   "codemirror_mode": {
    "name": "ipython",
    "version": 3
   },
   "file_extension": ".py",
   "mimetype": "text/x-python",
   "name": "python",
   "nbconvert_exporter": "python",
   "pygments_lexer": "ipython3",
   "version": "3.8.5"
  }
 },
 "nbformat": 4,
 "nbformat_minor": 2
}
