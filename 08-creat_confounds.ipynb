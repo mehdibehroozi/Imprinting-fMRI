{
 "cells": [
  {
   "cell_type": "code",
   "execution_count": 1,
   "metadata": {},
   "outputs": [
    {
     "name": "stdout",
     "output_type": "stream",
     "text": [
      "/mnt/d/Data/Chick/Imprinting/analysis/sub09/results\n",
      "/mnt/d/Data/Chick/Imprinting/analysis/sub11/results\n",
      "/mnt/d/Data/Chick/Imprinting/analysis/sub12/results\n",
      "/mnt/d/Data/Chick/Imprinting/analysis/sub18/results\n",
      "/mnt/d/Data/Chick/Imprinting/analysis/sub19/results\n",
      "/mnt/d/Data/Chick/Imprinting/analysis/sub21/results\n",
      "/mnt/d/Data/Chick/Imprinting/analysis/sub22/results\n",
      "/mnt/d/Data/Chick/Imprinting/analysis/sub24/results\n",
      "/mnt/d/Data/Chick/Imprinting/analysis/sub29/results\n",
      "/mnt/d/Data/Chick/Imprinting/analysis/sub31/results\n",
      "/mnt/d/Data/Chick/Imprinting/analysis/sub32/results\n",
      "/mnt/d/Data/Chick/Imprinting/analysis/sub34/results\n",
      "/mnt/d/Data/Chick/Imprinting/analysis/sub35/results\n",
      "/mnt/d/Data/Chick/Imprinting/analysis/sub36/results\n",
      "/mnt/d/Data/Chick/Imprinting/analysis/sub37/results\n",
      "/mnt/d/Data/Chick/Imprinting/analysis/sub38/results\n",
      "/mnt/d/Data/Chick/Imprinting/analysis/sub39/results\n",
      "/mnt/d/Data/Chick/Imprinting/analysis/sub40/results\n",
      "/mnt/d/Data/Chick/Imprinting/analysis/sub42/results\n",
      "/mnt/d/Data/Chick/Imprinting/analysis/sub43/results\n",
      "/mnt/d/Data/Chick/Imprinting/analysis/sub44/results\n",
      "/mnt/d/Data/Chick/Imprinting/analysis/sub46/results\n",
      "/mnt/d/Data/Chick/Imprinting/analysis/sub47/results\n",
      "/mnt/d/Data/Chick/Imprinting/analysis/sub48/results\n"
     ]
    }
   ],
   "source": [
    "import os\n",
    "import glob\n",
    "import pandas as pd\n",
    "import numpy as np\n",
    "data_path = '/mnt/d/Data/Chick/Imprinting/analysis/'\n",
    "in_file = 'func_data_mc_st_ss8_tf100'\n",
    "\n",
    "sub_dirs = glob.glob('%s/sub*/results'%(data_path))\n",
    "for curr_sub in sub_dirs:\n",
    "    print(curr_sub)\n",
    "    mc_path = os.path.join(curr_sub,in_file,'mc/prefiltered_func_data_mcf.par')\n",
    "    confounds_path = os.path.join(curr_sub,'motion_assess/confound.txt')\n",
    "    mc = pd.read_csv('{}'.format(mc_path),  delim_whitespace=True, header = None)\n",
    "    try:\n",
    "        fd = pd.read_csv('{}'.format(confounds_path),  delim_whitespace=True, header = None)\n",
    "        artifacts = np.column_stack((mc, fd))\n",
    "    except:\n",
    "        artifacts = mc\n",
    "   \n",
    "    np.savetxt('{}/confounds_mc_FD.txt'.format(curr_sub), artifacts, fmt = '%f')\n",
    "\n",
    "\n",
    "    "
   ]
  },
  {
   "cell_type": "code",
   "execution_count": null,
   "metadata": {},
   "outputs": [],
   "source": []
  }
 ],
 "metadata": {
  "kernelspec": {
   "display_name": "Python 3",
   "language": "python",
   "name": "python3"
  },
  "language_info": {
   "codemirror_mode": {
    "name": "ipython",
    "version": 3
   },
   "file_extension": ".py",
   "mimetype": "text/x-python",
   "name": "python",
   "nbconvert_exporter": "python",
   "pygments_lexer": "ipython3",
   "version": "3.8.5"
  }
 },
 "nbformat": 4,
 "nbformat_minor": 4
}
