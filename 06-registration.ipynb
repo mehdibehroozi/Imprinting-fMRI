{
 "cells": [
  {
   "cell_type": "markdown",
   "metadata": {},
   "source": [
    "# Registration"
   ]
  },
  {
   "cell_type": "markdown",
   "metadata": {},
   "source": [
    "# Anatomical >> Standard space registration"
   ]
  },
  {
   "cell_type": "code",
   "execution_count": null,
   "metadata": {
    "scrolled": true
   },
   "outputs": [],
   "source": [
    "import glob\n",
    "import os\n",
    "\n",
    "\n",
    "data_path = '/mnt/d/Data/Chick/Imprinting/analysis/'\n",
    "\n",
    "reference_path = '/mnt/d/Data/Chick/Imprinting/analysis/template/'\n",
    "\n",
    "sub_dirs = glob.glob('%s/sub*'%(data_path))\n",
    "\n",
    "for curr_sub in sub_dirs:\n",
    "    \n",
    "    reg_directory = os.path.join(curr_sub,'reg')\n",
    "    \n",
    "    print(reg_directory)\n",
    "    os.makedirs(reg_directory)\n",
    "    anat_dir = os.path.join(curr_sub,'anat')\n",
    "    os.system('fslmaths %s/anat %s/highres'%(anat_dir,reg_directory))\n",
    "    os.system('fslmaths %s/anat_brain %s/highres_head'%(anat_dir,reg_directory))\n",
    "    os.system('fslmaths %s/standard %s/standard'%(reference_path,reg_directory))\n",
    "    os.system('fslmaths %s/standard %s/standard_head'%(reference_path,reg_directory))\n",
    "    os.system('fslmaths %s/standard_mask %s/standard_mask'%(reference_path,reg_directory))\n",
    "    \n",
    "    # change directory to the reg \n",
    "    os.chdir(reg_directory)\n",
    "    \n",
    "    #highres 2 standard    \n",
    "    os.system('flirt -in highres_head -ref standard -out highres2standard -omat highres2standard.mat -bins 256 -cost corratio -searchrx -90 90 -searchry -90 90 -searchrz -90 90 -dof 6  -interp trilinear')\n",
    "    #os.system('flirt -in highres -ref standard -out highres2standard -omat highres2standard.mat -cost corratio -dof 6 -searchrx -180 180 -searchry -180 180 -searchrz -180 180 -interp trilinear')\n",
    "\n",
    "    os.system('fnirt --iout=highres2standard_head --in=highres_head --aff=highres2standard.mat --cout=highres2standard_warp --iout=highres2standard --jout=highres2highres_jac --ref=standard_head --refmask=standard_mask --warpres=6,6,6 --regmod=membrane_energy')\n",
    "    os.system('applywarp -i highres -r standard -o highres2standard -w highres2standard_warp')\n",
    "    os.system('convert_xfm -inverse -omat standard2highres.mat highres2standard.mat')\n",
    "\n",
    "              \n",
    "    os.system('slicer highres2standard standard -s 2 -x 0.35 sla.png -x 0.45 slb.png -x 0.55 slc.png -x 0.65 sld.png -y 0.35 sle.png -y 0.45 slf.png -y 0.55 slg.png -y 0.65 slh.png -z 0.35 sli.png -z 0.45 slj.png -z 0.55 slk.png -z 0.65 sll.png ; pngappend sla.png + slb.png + slc.png + sld.png + sle.png + slf.png + slg.png + slh.png + sli.png + slj.png + slk.png + sll.png highres2standard1.png ; slicer standard highres2standard -s 2 -x 0.35 sla.png -x 0.45 slb.png -x 0.55 slc.png -x 0.65 sld.png -y 0.35 sle.png -y 0.45 slf.png -y 0.55 slg.png -y 0.65 slh.png -z 0.35 sli.png -z 0.45 slj.png -z 0.55 slk.png -z 0.65 sll.png ; pngappend sla.png + slb.png + slc.png + sld.png + sle.png + slf.png + slg.png + slh.png + sli.png + slj.png + slk.png + sll.png highres2standard2.png ; pngappend highres2standard1.png - highres2standard2.png highres2standard.png; rm -f sl?.png highres2standard2.png')\n",
    "    os.system('rm highres2standard1.png')"
   ]
  },
  {
   "cell_type": "markdown",
   "metadata": {},
   "source": [
    "# Plot Anatomical >> Atlas registration results"
   ]
  },
  {
   "cell_type": "code",
   "execution_count": null,
   "metadata": {},
   "outputs": [],
   "source": [
    "%matplotlib inline\n",
    "%pylab inline\n",
    "#import matplotlib.pyplot as plt\n",
    "#import matplotlib.image as mpimg\n",
    "\n",
    "from IPython.display import display, Image\n",
    "import glob\n",
    "import os\n",
    "\n",
    "data_path = '/mnt/d/Data/Chick/Imprinting/analysis/'\n",
    "reg_dirs = glob.glob('%s/sub*/reg'%(data_path))\n",
    "\n",
    "for curr_reg in reg_dirs[0]:\n",
    "    \n",
    "    #print(curr_reg)\n",
    "    print(curr_reg[-9:-4])\n",
    "    plt.show()\n",
    "    display(Image(filename=os.path.join(curr_reg, 'highres2standard.png' )))"
   ]
  },
  {
   "cell_type": "markdown",
   "metadata": {},
   "source": [
    "# copy reg to single days folder and create example_func file and transfer bold to the results directory"
   ]
  },
  {
   "cell_type": "code",
   "execution_count": null,
   "metadata": {
    "scrolled": true
   },
   "outputs": [],
   "source": [
    "# first the code will copy the reg directory for ach day folder. Then, it will remove dummy scan from data and \n",
    "# save the bold file in results direcoty. Later the middle volume willbe extracted as example_func file and save in reg directory \n",
    "import glob\n",
    "import os\n",
    "import subprocess\n",
    "\n",
    "dummy_scan = 5#number of volumes for delete\n",
    "\n",
    "data_path = '/mnt/d/Data/Pigeon/Sleep/analysis/'\n",
    "\n",
    "sub_dirs = glob.glob('%s/sub*/2*'%(data_path))\n",
    "\n",
    "for curr_sub in sub_dirs:\n",
    "    print(curr_sub)\n",
    "    \n",
    "    # copy reg directoy to individual days\n",
    "    reg_str = os.path.join(os.path.dirname(curr_sub),'reg')\n",
    "    reg_dst = os.path.join(curr_sub,'results/reg')\n",
    "    os.makedirs(reg_dst)\n",
    "    os.system('cp -R %s/* %s'%(reg_str,reg_dst))\n",
    "    \n",
    "    # read number of volumes for each run and remove first five volume\n",
    "    cur_bold = os.path.join(curr_sub,'rest/bold.nii.gz')\n",
    "    results_folder = os.path.join(curr_sub,'results')\n",
    "    nVloume = subprocess.check_output(\"fslnvols %s\"%(cur_bold), shell=True).decode('utf-8')\n",
    "    os.system(\"fslroi %s %s/bold.nii.gz %s %s\"%(cur_bold,results_folder,dummy_scan,int(nVloume)-int(dummy_scan)))\n",
    "    \n",
    "    # create example_func file: the midle volume of session\n",
    "    nVloume = subprocess.check_output(\"fslnvols %s/bold.nii.gz\"%(results_folder), shell=True).decode('utf-8')\n",
    "    os.system(\"fslroi %s/bold %s/example_func %s %s\"%(results_folder,reg_dst,round((int(nVloume))/2),1))\n",
    "    \n"
   ]
  },
  {
   "cell_type": "markdown",
   "metadata": {},
   "source": [
    "# Functional >> Anatomical space registration\n",
    "<br>\n",
    "\n"
   ]
  },
  {
   "cell_type": "code",
   "execution_count": null,
   "metadata": {
    "scrolled": true
   },
   "outputs": [],
   "source": [
    "import glob\n",
    "import os\n",
    "import subprocess\n",
    "data_path = '/mnt/d/Data/Chick/Imprinting/analysis/'\n",
    "sub_dirs = glob.glob('%s/sub*'%(data_path))\n",
    "\n",
    "for curr_sub in sub_dirs:\n",
    "    \n",
    "    reg_dir = os.path.join(curr_sub,'reg')\n",
    "    print(reg_dir)\n",
    "    \n",
    "    cur_bold = os.path.join(curr_sub,'results/bold.nii.gz')\n",
    "    nVloume = subprocess.check_output(\"fslnvols %s\"%(cur_bold), shell=True).decode('utf-8')\n",
    "    os.system(\"fslroi %s %s/example_func %s %s\"%(cur_bold,reg_dir,round((int(nVloume))/2),1))\n",
    "    # change path\n",
    "    os.chdir(reg_dir)\n",
    "\n",
    "    #FSL\n",
    "    # register func2highres\n",
    "    os.system('flirt -in example_func -ref highres -out example_func2highres -omat example_func2highres.mat -bins 256 -cost mutualinfo -searchrx 0 0 -searchry 0 0 -searchrz 0 0 -dof 6  -interp trilinear')\n",
    "    os.system('convert_xfm -inverse -omat highres2example_func.mat example_func2highres.mat')\n",
    "    os.system('slicer example_func2highres highres -s 2 -x 0.35 sla.png -x 0.45 slb.png -x 0.55 slc.png -x 0.65 sld.png -y 0.35 sle.png -y 0.45 slf.png -y 0.55 slg.png -y 0.65 slh.png -z 0.35 sli.png -z 0.45 slj.png -z 0.55 slk.png -z 0.65 sll.png ; pngappend sla.png + slb.png + slc.png + sld.png + sle.png + slf.png + slg.png + slh.png + sli.png + slj.png + slk.png + sll.png example_func2highres1.png ; slicer highres example_func2highres -s 2 -x 0.35 sla.png -x 0.45 slb.png -x 0.55 slc.png -x 0.65 sld.png -y 0.35 sle.png -y 0.45 slf.png -y 0.55 slg.png -y 0.65 slh.png -z 0.35 sli.png -z 0.45 slj.png -z 0.55 slk.png -z 0.65 sll.png ; pngappend sla.png + slb.png + slc.png + sld.png + sle.png + slf.png + slg.png + slh.png + sli.png + slj.png + slk.png + sll.png example_func2highres2.png ; pngappend example_func2highres1.png - example_func2highres2.png example_func2highres.png; rm -f sl?.png example_func2highres2.png')\n",
    "    os.system('rm example_func2highres1.png')\n"
   ]
  },
  {
   "cell_type": "markdown",
   "metadata": {},
   "source": [
    "# Plot example_func >> anatomical space registeration results"
   ]
  },
  {
   "cell_type": "code",
   "execution_count": null,
   "metadata": {},
   "outputs": [],
   "source": [
    "%matplotlib inline\n",
    "%pylab inline\n",
    "#import matplotlib.pyplot as plt\n",
    "#import matplotlib.image as mpimg\n",
    "\n",
    "from IPython.display import display, Image\n",
    "import glob\n",
    "import os\n",
    "\n",
    "data_path = '/mnt/d/Data/Chick/Imprinting/analysis'\n",
    "\n",
    "reg_dirs = glob.glob('%s/sub*/reg'%(data_path))\n",
    "for curr_reg in reg_dirs:\n",
    "    \n",
    "    print(curr_reg)\n",
    "    #img = mpimg.imread(os.path.join(reg_dir, 'example_func2standard.png' ))\n",
    "    print(curr_reg.split('/')[-2])\n",
    "    #imgplot = plt.imshow(img)\n",
    "    plt.show()\n",
    "    display(Image(filename=os.path.join(curr_reg, 'example_func2highres.png' )))\n"
   ]
  },
  {
   "cell_type": "markdown",
   "metadata": {},
   "source": [
    "# conver highres mask to functional space"
   ]
  },
  {
   "cell_type": "code",
   "execution_count": null,
   "metadata": {
    "scrolled": true
   },
   "outputs": [],
   "source": [
    "import glob\n",
    "import os\n",
    "\n",
    "data_path = '/mnt/d/Data/Chick/Imprinting/analysis/'\n",
    "sub_dirs = glob.glob('%s/sub*/reg'%(data_path))\n",
    "\n",
    "for curr_sub in sub_dirs:\n",
    "\n",
    "    print(curr_sub)\n",
    "    \n",
    "    # change path\n",
    "    os.chdir(curr_sub)\n",
    "    os.system('fslmaths highres_head.nii.gz -div highres_head.nii.gz highres_mask')\n",
    "    os.system('flirt -in highres_mask.nii.gz -ref example_func -applyxfm -init highres2example_func.mat -out example_func_mask')\n",
    "    os.system('fslmaths example_func_mask -thr 0.25 example_func_mask')\n",
    "    os.system('fslmaths example_func_mask -div example_func_mask example_func_mask')"
   ]
  },
  {
   "cell_type": "markdown",
   "metadata": {},
   "source": [
    "# plot mask in functional spaces"
   ]
  },
  {
   "cell_type": "code",
   "execution_count": null,
   "metadata": {
    "scrolled": true
   },
   "outputs": [],
   "source": [
    "import glob\n",
    "import os\n",
    "import pandas as pd\n",
    "from nilearn.image import new_img_like, load_img, get_data\n",
    "import numpy as np\n",
    "from nilearn import plotting\n",
    "\n",
    "data_path = '/mnt/d/Data/Chick/Imprinting/analysis/'\n",
    "reg_dirs = glob.glob('%s/sub*/reg'%(data_path))\n",
    "\n",
    "for curr_reg in reg_dirs:\n",
    "    \n",
    "    #print(reg_dir)\n",
    "    #img = mpimg.imread(os.path.join(reg_dir, 'example_func2standard.png' ))\n",
    "    print(curr_reg.split('/')[-2])\n",
    "    mask_img = load_img(os.path.join(curr_reg, 'example_func_mask.nii.gz'))\n",
    "    # .astype() makes a copy.\n",
    "    process_mask = get_data(mask_img).astype(np.int)\n",
    "    #picked_slice = 29\n",
    "    #process_mask[:,:,:picked_slice] = 0\n",
    "    #process_mask[:,:,(picked_slice+1):] = 0\n",
    "    #process_mask[:, 30:] = 0\n",
    "    process_mask_img = new_img_like(mask_img, process_mask)\n",
    "\n",
    "    plotting.plot_roi(process_mask_img, bg_img=os.path.join(curr_reg, 'example_func.nii.gz'),\n",
    "                      cmap='Paired')\n",
    "    plotting.show()\n"
   ]
  },
  {
   "cell_type": "markdown",
   "metadata": {},
   "source": [
    "# concatenate functional >> highres and highres >> standrad"
   ]
  },
  {
   "cell_type": "code",
   "execution_count": null,
   "metadata": {
    "scrolled": true
   },
   "outputs": [],
   "source": [
    "import glob\n",
    "import os\n",
    "import subprocess\n",
    "data_path = '/mnt/d/Data/Chick/Imprinting/analysis/'\n",
    "sub_dirs = glob.glob('%s/sub*'%(data_path))\n",
    "\n",
    "for curr_sub in sub_dirs:\n",
    "    \n",
    "    reg_dir = os.path.join(curr_sub,'reg')\n",
    "    print(reg_dir)\n",
    "    # change path\n",
    "    os.chdir(reg_dir)\n",
    "    \n",
    "    # convert tranform matrix \n",
    "    os.system('convert_xfm -omat example_func2standard.mat -concat highres2standard.mat example_func2highres.mat')\n",
    "\n",
    "    os.system('convertwarp --ref=standard --premat=example_func2highres.mat --warp1=highres2standard_warp --out=example_func2standard_warp')\n",
    "\n",
    "    os.system('applywarp --ref=standard --in=example_func --out=example_func2standard --warp=example_func2standard_warp')\n",
    "\n",
    "    os.system('convert_xfm -inverse -omat standard2example_func.mat example_func2standard.mat')\n",
    "\n",
    "    os.system('slicer example_func2standard standard -s 2 -x 0.35 sla.png -x 0.45 slb.png -x 0.55 slc.png -x 0.65 sld.png -y 0.35 sle.png -y 0.45 slf.png -y 0.55 slg.png -y 0.65 slh.png -z 0.35 sli.png -z 0.45 slj.png -z 0.55 slk.png -z 0.65 sll.png ; /usr/local/fsl/bin/pngappend sla.png + slb.png + slc.png + sld.png + sle.png + slf.png + slg.png + slh.png + sli.png + slj.png + slk.png + sll.png example_func2standard1.png ; /usr/local/fsl/bin/slicer standard example_func2standard -s 2 -x 0.35 sla.png -x 0.45 slb.png -x 0.55 slc.png -x 0.65 sld.png -y 0.35 sle.png -y 0.45 slf.png -y 0.55 slg.png -y 0.65 slh.png -z 0.35 sli.png -z 0.45 slj.png -z 0.55 slk.png -z 0.65 sll.png ; /usr/local/fsl/bin/pngappend sla.png + slb.png + slc.png + sld.png + sle.png + slf.png + slg.png + slh.png + sli.png + slj.png + slk.png + sll.png example_func2standard2.png ; /usr/local/fsl/bin/pngappend example_func2standard1.png - example_func2standard2.png example_func2standard.png; /bin/rm -f sl?.png example_func2standard2.png')\n",
    "    "
   ]
  },
  {
   "cell_type": "markdown",
   "metadata": {},
   "source": [
    "# Plot example_func >> standard space registeration results"
   ]
  },
  {
   "cell_type": "code",
   "execution_count": null,
   "metadata": {},
   "outputs": [],
   "source": [
    "%matplotlib inline\n",
    "%pylab inline\n",
    "#import matplotlib.pyplot as plt\n",
    "#import matplotlib.image as mpimg\n",
    "\n",
    "from IPython.display import display, Image\n",
    "import glob\n",
    "import os\n",
    "\n",
    "data_path = '/mnt/d/Data/Chick/Imprinting/analysis/'\n",
    "\n",
    "reg_dirs = glob.glob('%s/sub*/reg'%(data_path))\n",
    "for curr_reg in reg_dirs:\n",
    "    \n",
    "    #print(reg_dir)\n",
    "    #img = mpimg.imread(os.path.join(reg_dir, 'example_func2standard.png' ))\n",
    "    print(curr_reg.split('/')[-2])\n",
    "    #imgplot = plt.imshow(img)\n",
    "    plt.show()\n",
    "    display(Image(filename=os.path.join(curr_reg, 'example_func2standard.png' )))\n"
   ]
  },
  {
   "cell_type": "code",
   "execution_count": null,
   "metadata": {},
   "outputs": [],
   "source": []
  }
 ],
 "metadata": {
  "kernelspec": {
   "display_name": "Python 3",
   "language": "python",
   "name": "python3"
  },
  "language_info": {
   "codemirror_mode": {
    "name": "ipython",
    "version": 3
   },
   "file_extension": ".py",
   "mimetype": "text/x-python",
   "name": "python",
   "nbconvert_exporter": "python",
   "pygments_lexer": "ipython3",
   "version": "3.8.5"
  }
 },
 "nbformat": 4,
 "nbformat_minor": 4
}
