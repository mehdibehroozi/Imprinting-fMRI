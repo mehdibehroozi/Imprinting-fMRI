{
 "cells": [
  {
   "cell_type": "markdown",
   "metadata": {},
   "source": [
    "# framewise displacement (FD)"
   ]
  },
  {
   "cell_type": "code",
   "execution_count": 1,
   "metadata": {
    "scrolled": true
   },
   "outputs": [
    {
     "name": "stdout",
     "output_type": "stream",
     "text": [
      "/mnt/d/Data/Chick/Imprinting/analysis/sub09/results/bold.nii.gz\n",
      "/mnt/d/Data/Chick/Imprinting/analysis/sub11/results/bold.nii.gz\n",
      "/mnt/d/Data/Chick/Imprinting/analysis/sub12/results/bold.nii.gz\n",
      "/mnt/d/Data/Chick/Imprinting/analysis/sub18/results/bold.nii.gz\n",
      "/mnt/d/Data/Chick/Imprinting/analysis/sub19/results/bold.nii.gz\n",
      "/mnt/d/Data/Chick/Imprinting/analysis/sub21/results/bold.nii.gz\n",
      "/mnt/d/Data/Chick/Imprinting/analysis/sub22/results/bold.nii.gz\n",
      "/mnt/d/Data/Chick/Imprinting/analysis/sub24/results/bold.nii.gz\n",
      "/mnt/d/Data/Chick/Imprinting/analysis/sub29/results/bold.nii.gz\n",
      "/mnt/d/Data/Chick/Imprinting/analysis/sub31/results/bold.nii.gz\n",
      "/mnt/d/Data/Chick/Imprinting/analysis/sub32/results/bold.nii.gz\n",
      "/mnt/d/Data/Chick/Imprinting/analysis/sub34/results/bold.nii.gz\n",
      "/mnt/d/Data/Chick/Imprinting/analysis/sub35/results/bold.nii.gz\n",
      "/mnt/d/Data/Chick/Imprinting/analysis/sub36/results/bold.nii.gz\n",
      "/mnt/d/Data/Chick/Imprinting/analysis/sub37/results/bold.nii.gz\n",
      "/mnt/d/Data/Chick/Imprinting/analysis/sub38/results/bold.nii.gz\n",
      "/mnt/d/Data/Chick/Imprinting/analysis/sub39/results/bold.nii.gz\n",
      "/mnt/d/Data/Chick/Imprinting/analysis/sub40/results/bold.nii.gz\n",
      "/mnt/d/Data/Chick/Imprinting/analysis/sub42/results/bold.nii.gz\n",
      "/mnt/d/Data/Chick/Imprinting/analysis/sub43/results/bold.nii.gz\n",
      "/mnt/d/Data/Chick/Imprinting/analysis/sub44/results/bold.nii.gz\n",
      "/mnt/d/Data/Chick/Imprinting/analysis/sub46/results/bold.nii.gz\n",
      "/mnt/d/Data/Chick/Imprinting/analysis/sub47/results/bold.nii.gz\n",
      "/mnt/d/Data/Chick/Imprinting/analysis/sub48/results/bold.nii.gz\n"
     ]
    }
   ],
   "source": [
    "\n",
    "#!/usr/bin/python\n",
    " \n",
    "import glob\n",
    "import os\n",
    "import sys\n",
    "import subprocess\n",
    " \n",
    "analysis_path = '/mnt/d/Data/Chick/Imprinting/analysis'\n",
    " \n",
    "bold_files = glob.glob('%s/sub*/results/bold.nii.gz'%(analysis_path))\n",
    "\n",
    "\n",
    "# I'm using a big html file to put all QA info together.  If you have other suggestions, let me know!\n",
    "outhtml = \"/mnt/d/Data/Chick/Imprinting/analysis/motion_parameters/bold_motion_QA_FD.html\"\n",
    "out_bad_bold_list = \"/mnt/d/Data/Chick/Imprinting/analysis/motion_parameters/subs_lose_gt_48_vol_scrub_FD.txt\"\n",
    " \n",
    "os.system(\"rm %s\"%(out_bad_bold_list))\n",
    "os.system(\"rm %s\"%(outhtml))\n",
    " \n",
    "for cur_bold in bold_files:\n",
    "    print(cur_bold)\n",
    "    # Store directory name\n",
    "    cur_dir = os.path.dirname(cur_bold)\n",
    "     \n",
    "    # strip off .nii.gz from file name (makes code below easier)\n",
    "    cur_bold_no_nii = cur_bold[:-7]\n",
    "     \n",
    "    #  You can also use fslreorient2std BUT\n",
    "    #  BUT BUT BUT DO NOT RUN THIS UNLESS YOUR DATA ACTUALLY NEED IT!\n",
    "    #os.system(\"fslswapdim %s z -x -y %s_swapped\"%(cur_bold_no_nii, cur_bold_no_nii))\n",
    "    # Once you're confident this works correctly, you can change the above to\n",
    "    #  overwrite bold.nii.gz (saves disc space)\n",
    " \n",
    "    # This is used to trim off unwanted volumes\n",
    "    # DO NOT USE THIS UNLESS YOU'VE DOUBLE CHECKED HOW MANY\n",
    "    # VOLUMES NEED TO BE TRIMMED (IF ANY)\n",
    "    # This trims first 2 and I set the max to a number far beyond\n",
    "    # the number of TRs\n",
    "    # Correct filename here to use output of previous step (if used)\n",
    "    #os.system(\"fslroi %s %s_trimmed 2 300\"%(cur_bold_no_nii, cur_bold_no_nii))\n",
    "    # Once you're confident this works correctly, you can change the above to\n",
    "    #   overwrite bold.nii.gz\n",
    " \n",
    "    # Assessing motion.  This is what takes the longest\n",
    "    # Check current literature to see if this thresh (0.9) is\n",
    "    #  acceptable\n",
    "    # I got it from here: http://www.ncbi.nlm.nih.gov/pubmed/23861343\n",
    "    # Also, consider using FSL's FIX to clean your data\n",
    "    if os.path.isdir(\"%s/motion_assess/\"%(cur_dir))==False:\n",
    "        os.system(\"mkdir %s/motion_assess\"%(cur_dir))\n",
    "    # we used threshold of 2.5 (after upscaling by factor of 10) to have half voxel size\n",
    "    os.system(\"fsl_motion_outliers -i %s -o %s/motion_assess/confound.txt --fd --thresh=2.5 -p %s/motion_assess/fd_plot -s %s/motion_assess/fd_par.txt -v > %s/motion_assess/outlier_output.txt\"%(cur_bold_no_nii, cur_dir, cur_dir, cur_dir, cur_dir))\n",
    " \n",
    "    # Put confound info into html file for review later on\n",
    "    os.system(\"cat %s/motion_assess/outlier_output.txt >> %s\"%(cur_dir, outhtml))\n",
    "    os.system(\"echo '<p>=============<p>FD plot %s <br><IMG BORDER=0 SRC=%s/motion_assess/fd_plot.png WIDTH=100%s></BODY></HTML>' >> %s\"%(cur_dir, cur_dir,'%', outhtml))\n",
    " \n",
    "    # Last, if we're planning on modeling out scrubbed volumes later\n",
    "    #   it is helpful to create an empty file if confound.txt isn't\n",
    "    #   generated (i.e. no scrubbing needed).  It is basically a\n",
    "    #   place holder to make future scripting easier\n",
    "    if os.path.isfile(\"%s/motion_assess/confound.txt\"%(cur_dir))==False:\n",
    "        os.system(\"touch %s/motion_assess/confound.txt\"%(cur_dir))\n",
    " \n",
    "    # Very last, create a list of subjects who exceed a threshold for\n",
    "    #  number of scrubbed volumes.  This should be taken seriously.  If\n",
    "    #  most of your scrubbed data are occurring during task, that's\n",
    "    #  important to consider (e.g. subject with 20 volumes scrubbed\n",
    "    #  during task is much worse off than subject with 20 volumes\n",
    "    #  scrubbed during baseline.\n",
    "    # These data have about 182 volumes and I'd hope to keep 140\n",
    "    #  DO NOT USE 140 JUST BECAUSE I AM.  LOOK AT YOUR DATA AND\n",
    "    #  COME TO AN AGREED VALUE WITH OTHER RESEARCHERS IN YOUR GROUP\n",
    "    output = subprocess.check_output(\"grep -o 1 %s/motion_assess/confound.txt | wc -l\"%(cur_dir), shell=True)\n",
    "    num_scrub = [int(s) for s in output.split() if s.isdigit()]\n",
    "    if num_scrub[0]>130:\n",
    "        with open(out_bad_bold_list, \"a\") as myfile:\n",
    "            myfile.write(\"%s\\n\"%(cur_bold))\n"
   ]
  },
  {
   "cell_type": "markdown",
   "metadata": {},
   "source": [
    "# plot all FD signals"
   ]
  },
  {
   "cell_type": "code",
   "execution_count": 2,
   "metadata": {},
   "outputs": [
    {
     "name": "stdout",
     "output_type": "stream",
     "text": [
      "Populating the interactive namespace from numpy and matplotlib\n",
      "analysis/sub09\n"
     ]
    },
    {
     "data": {
      "image/png": "[encoded data removed]",
      "text/plain": [
       "<IPython.core.display.Image object>"
      ]
     },
     "metadata": {},
     "output_type": "display_data"
    },
    {
     "name": "stdout",
     "output_type": "stream",
     "text": [
      "analysis/sub11\n"
     ]
    },
    {
     "data": {
      "image/png": "[encoded data removed]",
      "text/plain": [
       "<IPython.core.display.Image object>"
      ]
     },
     "metadata": {},
     "output_type": "display_data"
    },
    {
     "name": "stdout",
     "output_type": "stream",
     "text": [
      "analysis/sub12\n"
     ]
    },
    {
     "data": {
      "image/png": "[encoded data removed]",
      "text/plain": [
       "<IPython.core.display.Image object>"
      ]
     },
     "metadata": {},
     "output_type": "display_data"
    },
    {
     "name": "stdout",
     "output_type": "stream",
     "text": [
      "analysis/sub18\n"
     ]
    },
    {
     "data": {
      "image/png": "[encoded data removed]",
      "text/plain": [
       "<IPython.core.display.Image object>"
      ]
     },
     "metadata": {},
     "output_type": "display_data"
    },
    {
     "name": "stdout",
     "output_type": "stream",
     "text": [
      "analysis/sub19\n"
     ]
    },
    {
     "data": {
      "image/png": "[encoded data removed]",
      "text/plain": [
       "<IPython.core.display.Image object>"
      ]
     },
     "metadata": {},
     "output_type": "display_data"
    },
    {
     "name": "stdout",
     "output_type": "stream",
     "text": [
      "analysis/sub21\n"
     ]
    },
    {
     "data": {
      "image/png": "[encoded data removed]",
      "text/plain": [
       "<IPython.core.display.Image object>"
      ]
     },
     "metadata": {},
     "output_type": "display_data"
    },
    {
     "name": "stdout",
     "output_type": "stream",
     "text": [
      "analysis/sub22\n"
     ]
    },
    {
     "data": {
      "image/png": "[encoded data removed]",
      "text/plain": [
       "<IPython.core.display.Image object>"
      ]
     },
     "metadata": {},
     "output_type": "display_data"
    },
    {
     "name": "stdout",
     "output_type": "stream",
     "text": [
      "analysis/sub24\n"
     ]
    },
    {
     "data": {
      "image/png": "[encoded data removed]",
      "text/plain": [
       "<IPython.core.display.Image object>"
      ]
     },
     "metadata": {},
     "output_type": "display_data"
    },
    {
     "name": "stdout",
     "output_type": "stream",
     "text": [
      "analysis/sub29\n"
     ]
    },
    {
     "data": {
      "image/png": "[encoded data removed]",
      "text/plain": [
       "<IPython.core.display.Image object>"
      ]
     },
     "metadata": {},
     "output_type": "display_data"
    },
    {
     "name": "stdout",
     "output_type": "stream",
     "text": [
      "analysis/sub31\n"
     ]
    },
    {
     "data": {
      "image/png": "[encoded data removed]",
      "text/plain": [
       "<IPython.core.display.Image object>"
      ]
     },
     "metadata": {},
     "output_type": "display_data"
    },
    {
     "name": "stdout",
     "output_type": "stream",
     "text": [
      "analysis/sub32\n"
     ]
    },
    {
     "data": {
      "image/png": "[encoded data removed]",
      "text/plain": [
       "<IPython.core.display.Image object>"
      ]
     },
     "metadata": {},
     "output_type": "display_data"
    },
    {
     "name": "stdout",
     "output_type": "stream",
     "text": [
      "analysis/sub34\n"
     ]
    },
    {
     "data": {
      "image/png": "[encoded data removed]",
      "text/plain": [
       "<IPython.core.display.Image object>"
      ]
     },
     "metadata": {},
     "output_type": "display_data"
    },
    {
     "name": "stdout",
     "output_type": "stream",
     "text": [
      "analysis/sub35\n"
     ]
    },
    {
     "data": {
      "image/png": "[encoded data removed]",
      "text/plain": [
       "<IPython.core.display.Image object>"
      ]
     },
     "metadata": {},
     "output_type": "display_data"
    },
    {
     "name": "stdout",
     "output_type": "stream",
     "text": [
      "analysis/sub36\n"
     ]
    },
    {
     "data": {
      "image/png": "[encoded data removed]",
      "text/plain": [
       "<IPython.core.display.Image object>"
      ]
     },
     "metadata": {},
     "output_type": "display_data"
    },
    {
     "name": "stdout",
     "output_type": "stream",
     "text": [
      "analysis/sub37\n"
     ]
    },
    {
     "data": {
      "image/png": "[encoded data removed]",
      "text/plain": [
       "<IPython.core.display.Image object>"
      ]
     },
     "metadata": {},
     "output_type": "display_data"
    },
    {
     "name": "stdout",
     "output_type": "stream",
     "text": [
      "analysis/sub38\n"
     ]
    },
    {
     "data": {
      "image/png": "[encoded data removed]",
      "text/plain": [
       "<IPython.core.display.Image object>"
      ]
     },
     "metadata": {},
     "output_type": "display_data"
    },
    {
     "name": "stdout",
     "output_type": "stream",
     "text": [
      "analysis/sub39\n"
     ]
    },
    {
     "data": {
      "image/png": "[encoded data removed]",
      "text/plain": [
       "<IPython.core.display.Image object>"
      ]
     },
     "metadata": {},
     "output_type": "display_data"
    },
    {
     "name": "stdout",
     "output_type": "stream",
     "text": [
      "analysis/sub40\n"
     ]
    },
    {
     "data": {
      "image/png": "[encoded data removed]",
      "text/plain": [
       "<IPython.core.display.Image object>"
      ]
     },
     "metadata": {},
     "output_type": "display_data"
    },
    {
     "name": "stdout",
     "output_type": "stream",
     "text": [
      "analysis/sub42\n"
     ]
    },
    {
     "data": {
      "image/png": "[encoded data removed]",
      "text/plain": [
       "<IPython.core.display.Image object>"
      ]
     },
     "metadata": {},
     "output_type": "display_data"
    },
    {
     "name": "stdout",
     "output_type": "stream",
     "text": [
      "analysis/sub43\n"
     ]
    },
    {
     "data": {
      "image/png": "[encoded data removed]",
      "text/plain": [
       "<IPython.core.display.Image object>"
      ]
     },
     "metadata": {},
     "output_type": "display_data"
    },
    {
     "name": "stdout",
     "output_type": "stream",
     "text": [
      "analysis/sub44\n"
     ]
    },
    {
     "data": {
      "image/png": "[encoded data removed]",
      "text/plain": [
       "<IPython.core.display.Image object>"
      ]
     },
     "metadata": {},
     "output_type": "display_data"
    },
    {
     "name": "stdout",
     "output_type": "stream",
     "text": [
      "analysis/sub46\n"
     ]
    },
    {
     "data": {
      "image/png": "[encoded data removed]",
      "text/plain": [
       "<IPython.core.display.Image object>"
      ]
     },
     "metadata": {},
     "output_type": "display_data"
    },
    {
     "name": "stdout",
     "output_type": "stream",
     "text": [
      "analysis/sub47\n"
     ]
    },
    {
     "data": {
      "image/png": "[encoded data removed]",
      "text/plain": [
       "<IPython.core.display.Image object>"
      ]
     },
     "metadata": {},
     "output_type": "display_data"
    },
    {
     "name": "stdout",
     "output_type": "stream",
     "text": [
      "analysis/sub48\n"
     ]
    },
    {
     "data": {
      "image/png": "[encoded data removed]",
      "text/plain": [
       "<IPython.core.display.Image object>"
      ]
     },
     "metadata": {},
     "output_type": "display_data"
    }
   ],
   "source": [
    "%matplotlib inline\n",
    "%pylab inline\n",
    "\n",
    "from IPython.display import display, Image\n",
    "import glob\n",
    "import os\n",
    "\n",
    "data_path = '/mnt/d/Data/Chick/Imprinting/analysis'\n",
    "FD_dirs = glob.glob('%s/sub*/results/motion_assess/fd_plot.png'%(data_path))\n",
    "\n",
    "for curr_FD in FD_dirs:\n",
    "    \n",
    "    #print(curr_reg)\n",
    "    print(curr_FD.split('/')[-5]+'/'+curr_FD.split('/')[-4])\n",
    "    plt.show()\n",
    "    display(Image(filename=curr_FD))"
   ]
  },
  {
   "cell_type": "markdown",
   "metadata": {},
   "source": [
    "Plot FD parameters over all animals"
   ]
  },
  {
   "cell_type": "code",
   "execution_count": 56,
   "metadata": {},
   "outputs": [
    {
     "name": "stdout",
     "output_type": "stream",
     "text": [
      "Populating the interactive namespace from numpy and matplotlib\n"
     ]
    },
    {
     "data": {
      "image/png": "[encoded data removed]",
      "text/plain": [
       "<Figure size 432x288 with 1 Axes>"
      ]
     },
     "metadata": {
      "needs_background": "light"
     },
     "output_type": "display_data"
    }
   ],
   "source": [
    "%matplotlib inline\n",
    "%pylab inline\n",
    "# import os\n",
    "import glob\n",
    "import matplotlib.pyplot as plt\n",
    "import matplotlib\n",
    "import os\n",
    "data_path = '/mnt/d/Data/Chick/Imprinting/analysis'\n",
    " \n",
    "FD_files = glob.glob('%s/sub*/results/motion_assess/fd_par.txt'%(data_path))\n",
    "FD_data = []\n",
    "for cur_FD in FD_files[4:]:\n",
    "    #print(cur_FD)\n",
    "    f = open(cur_FD, \"r\")\n",
    "    for line in f:\n",
    "        if line != \" \":\n",
    "            FD_data.append((float(line.rsplit()[0]))/10)\n",
    "            \n",
    "plt.hist(FD_data, bins=200, orientation='horizontal')\n",
    "plt.ylabel('framewise displacement (mm)')\n",
    "plt.xlabel('# volume')\n",
    "plt.xlim([0,900])\n",
    "plt.ylim([-0.001,0.3])\n",
    "plt.style.context('seaborn-bright')\n",
    "plt.savefig(os.path.join(data_path,'motion_parameters/FD.svg'), format='svg', dpi=1200)\n",
    "plt.savefig(os.path.join(data_path,'motion_parameters/FD.png'))\n"
   ]
  },
  {
   "cell_type": "code",
   "execution_count": 59,
   "metadata": {},
   "outputs": [],
   "source": [
    "output = os.path.join(data_path,'motion_parameters/FD_data.txt')\n",
    "with open(output, 'w') as f:\n",
    "    for item in FD_data:\n",
    "        f.write(\"%s\\n\" % item)"
   ]
  },
  {
   "cell_type": "code",
   "execution_count": 15,
   "metadata": {},
   "outputs": [],
   "source": [
    "#or function version\n",
    "def length_of_list(list_of_numbers, number):\n",
    "    x = [i for i in list_of_numbers if i > number]\n",
    "    return len(x)"
   ]
  },
  {
   "cell_type": "code",
   "execution_count": 16,
   "metadata": {},
   "outputs": [
    {
     "name": "stdout",
     "output_type": "stream",
     "text": [
      "sub09  --->>  135\n",
      "sub11  --->>  40\n",
      "sub12  --->>  8\n",
      "sub18  --->>  41\n",
      "sub19  --->>  6\n",
      "sub21  --->>  10\n",
      "sub22  --->>  33\n",
      "sub24  --->>  48\n",
      "sub29  --->>  44\n",
      "sub31  --->>  0\n",
      "sub32  --->>  13\n",
      "sub34  --->>  1\n",
      "sub35  --->>  0\n",
      "sub36  --->>  9\n",
      "sub37  --->>  2\n",
      "sub38  --->>  0\n",
      "sub39  --->>  0\n",
      "sub40  --->>  1\n",
      "sub42  --->>  8\n",
      "sub43  --->>  0\n",
      "sub44  --->>  0\n",
      "sub46  --->>  36\n",
      "sub47  --->>  1\n",
      "sub48  --->>  2\n"
     ]
    }
   ],
   "source": [
    "import glob\n",
    "import matplotlib.pyplot as plt\n",
    "import matplotlib\n",
    "path = '/mnt/d/Data/Chick/Imprinting/analysis'\n",
    " \n",
    "FD_files = glob.glob('%s/sub*/results/motion_assess/fd_par.txt'%(path))\n",
    "FD_data = []\n",
    "for cur_FD in list(FD_files):\n",
    "    FD_data = []\n",
    "    \n",
    "    #print(cur_FD)\n",
    "    f = open(cur_FD, \"r\")\n",
    "    for line in f:\n",
    "        if line != \" \":\n",
    "            FD_data.append((float(line.rsplit()[0]))/10)\n",
    "    print(cur_FD.split('/')[-4], ' --->> ', length_of_list(FD_data, 0.2))"
   ]
  },
  {
   "cell_type": "code",
   "execution_count": null,
   "metadata": {},
   "outputs": [],
   "source": []
  }
 ],
 "metadata": {
  "kernelspec": {
   "display_name": "Python 3",
   "language": "python",
   "name": "python3"
  },
  "language_info": {
   "codemirror_mode": {
    "name": "ipython",
    "version": 3
   },
   "file_extension": ".py",
   "mimetype": "text/x-python",
   "name": "python",
   "nbconvert_exporter": "python",
   "pygments_lexer": "ipython3",
   "version": "3.8.5"
  }
 },
 "nbformat": 4,
 "nbformat_minor": 4
}
