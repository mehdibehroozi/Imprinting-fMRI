{
 "cells": [
  {
   "cell_type": "markdown",
   "metadata": {},
   "source": [
    "# Remove dummy scans:\n",
    "    Here, we will remove first n volume, and copy data in result directory"
   ]
  },
  {
   "cell_type": "code",
   "execution_count": 2,
   "metadata": {
    "scrolled": false
   },
   "outputs": [
    {
     "name": "stdout",
     "output_type": "stream",
     "text": [
      "/mnt/d/Data/Chick/Imprinting/analysis/sub09/func/bold.nii.gz\n",
      "/mnt/d/Data/Chick/Imprinting/analysis/sub11/func/bold.nii.gz\n",
      "/mnt/d/Data/Chick/Imprinting/analysis/sub12/func/bold.nii.gz\n",
      "/mnt/d/Data/Chick/Imprinting/analysis/sub18/func/bold.nii.gz\n",
      "/mnt/d/Data/Chick/Imprinting/analysis/sub19/func/bold.nii.gz\n",
      "/mnt/d/Data/Chick/Imprinting/analysis/sub21/func/bold.nii.gz\n",
      "/mnt/d/Data/Chick/Imprinting/analysis/sub22/func/bold.nii.gz\n",
      "/mnt/d/Data/Chick/Imprinting/analysis/sub24/func/bold.nii.gz\n",
      "/mnt/d/Data/Chick/Imprinting/analysis/sub29/func/bold.nii.gz\n",
      "/mnt/d/Data/Chick/Imprinting/analysis/sub31/func/bold.nii.gz\n",
      "/mnt/d/Data/Chick/Imprinting/analysis/sub32/func/bold.nii.gz\n",
      "/mnt/d/Data/Chick/Imprinting/analysis/sub34/func/bold.nii.gz\n",
      "/mnt/d/Data/Chick/Imprinting/analysis/sub35/func/bold.nii.gz\n",
      "/mnt/d/Data/Chick/Imprinting/analysis/sub36/func/bold.nii.gz\n",
      "/mnt/d/Data/Chick/Imprinting/analysis/sub37/func/bold.nii.gz\n",
      "/mnt/d/Data/Chick/Imprinting/analysis/sub38/func/bold.nii.gz\n",
      "/mnt/d/Data/Chick/Imprinting/analysis/sub39/func/bold.nii.gz\n",
      "/mnt/d/Data/Chick/Imprinting/analysis/sub40/func/bold.nii.gz\n",
      "/mnt/d/Data/Chick/Imprinting/analysis/sub42/func/bold.nii.gz\n",
      "/mnt/d/Data/Chick/Imprinting/analysis/sub43/func/bold.nii.gz\n",
      "/mnt/d/Data/Chick/Imprinting/analysis/sub44/func/bold.nii.gz\n",
      "/mnt/d/Data/Chick/Imprinting/analysis/sub46/func/bold.nii.gz\n",
      "/mnt/d/Data/Chick/Imprinting/analysis/sub47/func/bold.nii.gz\n",
      "/mnt/d/Data/Chick/Imprinting/analysis/sub48/func/bold.nii.gz\n"
     ]
    }
   ],
   "source": [
    "import glob\n",
    "import os\n",
    "import subprocess\n",
    "\n",
    "dummy_scan = 10#number of volumes for delete\n",
    "\n",
    "\n",
    "analysis_path = '/mnt/d/Data/Chick/Imprinting/analysis'\n",
    "\n",
    "bold_files = glob.glob('%s/sub*/func/bold.nii.gz'%(analysis_path))\n",
    "\n",
    "for cur_bold in bold_files:\n",
    "    print(cur_bold)\n",
    "     \n",
    "    results_folder = os.path.join(analysis_path,cur_bold.split('/')[-3],'results')    \n",
    "    \n",
    "    # creat a result folder fro each run\n",
    "    os.makedirs(results_folder)\n",
    "\n",
    "    # read number of volumes for each run and remove first five volume\n",
    "    nVloume = subprocess.check_output(\"fslnvols %s\"%(cur_bold), shell=True).decode('utf-8')\n",
    "    #print(nVloume)\n",
    "    os.system(\"fslroi %s %s/bold %s %s\"%(cur_bold,results_folder,dummy_scan,int(nVloume)-int(dummy_scan)))\n",
    "    "
   ]
  },
  {
   "cell_type": "code",
   "execution_count": null,
   "metadata": {},
   "outputs": [],
   "source": []
  }
 ],
 "metadata": {
  "kernelspec": {
   "display_name": "Python 3",
   "language": "python",
   "name": "python3"
  },
  "language_info": {
   "codemirror_mode": {
    "name": "ipython",
    "version": 3
   },
   "file_extension": ".py",
   "mimetype": "text/x-python",
   "name": "python",
   "nbconvert_exporter": "python",
   "pygments_lexer": "ipython3",
   "version": "3.8.5"
  }
 },
 "nbformat": 4,
 "nbformat_minor": 4
}
